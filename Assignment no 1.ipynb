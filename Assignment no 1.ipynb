{
 "cells": [
  {
   "cell_type": "code",
   "execution_count": 15,
   "metadata": {},
   "outputs": [
    {
     "name": "stdout",
     "output_type": "stream",
     "text": [
      "Twinkle, twinkle, little star,\n",
      "      How I wondered what you are!\n",
      "             Up above the world so high,\n",
      "             Like a diamond in the sky.\n",
      "Twinkle, twinkle, little star\n",
      "      How I wonder what you are\n"
     ]
    }
   ],
   "source": [
    "print(\"Twinkle, twinkle, little star,\")\n",
    "print(\"      How I wondered what you are!\")\n",
    "print(\"             Up above the world so high,\")\n",
    "print(\"             Like a diamond in the sky.\")\n",
    "print(\"Twinkle, twinkle, little star\")\n",
    "print(\"      How I wonder what you are\")"
   ]
  },
  {
   "cell_type": "code",
   "execution_count": 33,
   "metadata": {},
   "outputs": [
    {
     "name": "stdout",
     "output_type": "stream",
     "text": [
      "First go to Anaconda.com\n",
      "Then click on the download option that is on the upper right corner\n",
      "Then page will show you two versions of Python\n",
      "Click on PYTHON 3.7 VERSION\n",
      "Chose Graphical installer according to your window, 32-bit or 64-bit\n",
      "and click on it\n",
      "Then you get the new version of python\n"
     ]
    }
   ],
   "source": [
    "print(\"First go to Anaconda.com\")\n",
    "print(\"Then click on the download option that is on the upper right corner\")\n",
    "print(\"Then page will show you two versions of Python\")\n",
    "print(\"Click on PYTHON 3.7 VERSION\")\n",
    "print(\"Chose Graphical installer according to your window, 32-bit or 64-bit\")\n",
    "print(\"and click on it\")\n",
    "print(\"Then you get the new version of python\")"
   ]
  },
  {
   "cell_type": "code",
   "execution_count": 16,
   "metadata": {},
   "outputs": [
    {
     "name": "stdout",
     "output_type": "stream",
     "text": [
      "Date 05-November-2019\n",
      "Time 11:35 PM\n"
     ]
    }
   ],
   "source": [
    "print(\"Date 05-November-2019\")\n",
    "print(\"Time 11:35 PM\")"
   ]
  },
  {
   "cell_type": "code",
   "execution_count": 28,
   "metadata": {},
   "outputs": [
    {
     "name": "stdout",
     "output_type": "stream",
     "text": [
      "78.57142857142857\n"
     ]
    }
   ],
   "source": [
    "radius_of_circle = 5\n",
    "area_of_circle = 22 / 7 * radius_of_circle * 5\n",
    "print(area_of_circle)"
   ]
  },
  {
   "cell_type": "code",
   "execution_count": 18,
   "metadata": {},
   "outputs": [
    {
     "name": "stdout",
     "output_type": "stream",
     "text": [
      "Muhammad Ghulam\n"
     ]
    }
   ],
   "source": [
    "last_name = (\"Muhammad \")\n",
    "first_name = (\"Ghulam\")\n",
    "print(last_name + first_name)"
   ]
  },
  {
   "cell_type": "code",
   "execution_count": 25,
   "metadata": {},
   "outputs": [
    {
     "name": "stdout",
     "output_type": "stream",
     "text": [
      "8800\n"
     ]
    }
   ],
   "source": [
    "net_profit = 7800\n",
    "annual_profit = (net_profit + 1000)\n",
    "print(annual_profit)"
   ]
  },
  {
   "cell_type": "code",
   "execution_count": null,
   "metadata": {},
   "outputs": [],
   "source": []
  }
 ],
 "metadata": {
  "kernelspec": {
   "display_name": "Python 3",
   "language": "python",
   "name": "python3"
  },
  "language_info": {
   "codemirror_mode": {
    "name": "ipython",
    "version": 3
   },
   "file_extension": ".py",
   "mimetype": "text/x-python",
   "name": "python",
   "nbconvert_exporter": "python",
   "pygments_lexer": "ipython3",
   "version": "3.7.4"
  }
 },
 "nbformat": 4,
 "nbformat_minor": 2
}
