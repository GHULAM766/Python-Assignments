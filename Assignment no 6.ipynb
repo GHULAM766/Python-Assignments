{
 "cells": [
  {
   "cell_type": "code",
   "execution_count": 3,
   "metadata": {},
   "outputs": [
    {
     "name": "stdout",
     "output_type": "stream",
     "text": [
      "Object Orianted Programming language(OOP) is a language that is based on classes,Classes may be the real world matter in which we create objects,and in objects we define the functionality of any thing.\n"
     ]
    }
   ],
   "source": [
    "#Define object orianted programming language?\n",
    "print(\"Object Orianted Programming language(OOP) is a language that is based on classes,Classes may be the real world matter in which we create objects,and in objects we define the functionality of any thing.\")"
   ]
  },
  {
   "cell_type": "code",
   "execution_count": 4,
   "metadata": {},
   "outputs": [
    {
     "name": "stdout",
     "output_type": "stream",
     "text": [
      "The main advantage of 'OOP'is we don't need to define the atributes again and again.\n",
      "Once we define the codes in one class then we use that codes outside the class also.\n",
      "by using 'OOP' we create reusable codes.\n",
      "We also get the flexibility through Polymorphism.\n"
     ]
    }
   ],
   "source": [
    "#List down the benifits of OOPS?\n",
    "print(\"The main advantage of 'OOP'is we don't need to define the atributes again and again.\")\n",
    "print(\"Once we define the codes in one class then we use that codes outside the class also.\")\n",
    "print(\"by using 'OOP' we create reusable codes.\")\n",
    "print(\"We also get the flexibility through Polymorphism.\")"
   ]
  },
  {
   "cell_type": "code",
   "execution_count": 1,
   "metadata": {},
   "outputs": [
    {
     "name": "stdout",
     "output_type": "stream",
     "text": [
      "Simply, function and method both look similar as they perform in almost similar way, but the key difference is the concept of 'Class and its Object'.\n",
      "Functions can be called only by its name, as it is defined independently. But methods can’t be called by its name only,\n",
      "we need to invoke the class by a reference of that class in which it is defined, i.e. method is defined within a class and hence they are dependent on that class.\n"
     ]
    }
   ],
   "source": [
    "#Differentiate between Function and Method. \n",
    "print(\"Simply, function and method both look similar as they perform in almost similar way, but the key difference is the concept of 'Class and its Object'.\")      \n",
    "print(\"Functions can be called only by its name, as it is defined independently. But methods can’t be called by its name only,\") \n",
    "print(\"we need to invoke the class by a reference of that class in which it is defined, i.e. method is defined within a class and hence they are dependent on that class.\")"
   ]
  },
  {
   "cell_type": "code",
   "execution_count": 1,
   "metadata": {},
   "outputs": [
    {
     "name": "stdout",
     "output_type": "stream",
     "text": [
      "CLASS..\n",
      "A Class is a description of a group of objects with common properties (attributes), behavior (operations), relationships, and semantics\n",
      "ATRIBUTE..\n",
      "An Attribute is a named property of a class. It has a type. It describes the range of values that that property may hold.\n",
      "OBJECT..\n",
      "An Object is a concept, an abstraction, a thing with sharp boundaries and meaning for an application.\n",
      "BEHAVIOUR..\n",
      "Behaviour is what we define about in object description,e.g .Car staring allows us turn the car.\n"
     ]
    }
   ],
   "source": [
    "#Define the class,atribute,object,and,behaviour.\n",
    "print(\"CLASS..\")\n",
    "print(\"A Class is a description of a group of objects with common properties (attributes), behavior (operations), relationships, and semantics\")\n",
    "\n",
    "print(\"ATRIBUTE..\")\n",
    "print(\"An Attribute is a named property of a class. It has a type. It describes the range of values that that property may hold.\")\n",
    "\n",
    "print(\"OBJECT..\")\n",
    "print(\"An Object is a concept, an abstraction, a thing with sharp boundaries and meaning for an application.\")\n",
    "\n",
    "print(\"BEHAVIOUR..\")\n",
    "print(\"Behaviour is what we define about in object description,e.g .Car staring allows us turn the car.\")"
   ]
  },
  {
   "cell_type": "code",
   "execution_count": 13,
   "metadata": {},
   "outputs": [
    {
     "name": "stdout",
     "output_type": "stream",
     "text": [
      "COROLLA\n",
      "2017\n",
      "BLACK\n",
      "TOYOTA\n",
      "20KM in 1 liter\n",
      "\n",
      "\n",
      "CIVIC\n",
      "2016\n",
      "WHITE\n",
      "HONDA\n",
      "15KM in 1 liter\n",
      "\n",
      "\n",
      "SWIFT\n",
      "2015\n",
      "GRAY\n",
      "SUZUKI\n",
      "18KM in 1 liter\n",
      "\n",
      "\n"
     ]
    }
   ],
   "source": [
    "class car():\n",
    "    def __init__(self,name,model,color,brand,fuel_capacity):\n",
    "        self.name = name\n",
    "        self.model = model\n",
    "        self.color = color\n",
    "        self.brand = brand\n",
    "        self.fuel_capacity = fuel_capacity\n",
    "        \n",
    "car1 = car('COROLLA',2017,'BLACK','TOYOTA','20KM in 1 liter')        \n",
    "\n",
    "print(car1.name)\n",
    "print(car1.model)\n",
    "print(car1.color)\n",
    "print(car1.brand)\n",
    "print(car1.fuel_capacity)\n",
    "print(\"\\n\")   \n",
    "car2 = car('CIVIC',2016,'WHITE','HONDA','15KM in 1 liter')\n",
    "print(car2.name)\n",
    "print(car2.model)\n",
    "print(car2.color)\n",
    "print(car2.brand)\n",
    "print(car2.fuel_capacity)\n",
    "print(\"\\n\")\n",
    "car3 = car('SWIFT',2015,'GRAY','SUZUKI','18KM in 1 liter')\n",
    "print(car3.name)\n",
    "print(car3.model)\n",
    "print(car3.color)\n",
    "print(car3.brand)\n",
    "print(car3.fuel_capacity)\n",
    "print(\"\\n\")"
   ]
  },
  {
   "cell_type": "code",
   "execution_count": null,
   "metadata": {},
   "outputs": [],
   "source": []
  }
 ],
 "metadata": {
  "kernelspec": {
   "display_name": "Python 3",
   "language": "python",
   "name": "python3"
  },
  "language_info": {
   "codemirror_mode": {
    "name": "ipython",
    "version": 3
   },
   "file_extension": ".py",
   "mimetype": "text/x-python",
   "name": "python",
   "nbconvert_exporter": "python",
   "pygments_lexer": "ipython3",
   "version": "3.7.4"
  }
 },
 "nbformat": 4,
 "nbformat_minor": 2
}
