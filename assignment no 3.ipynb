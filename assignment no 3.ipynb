{
 "cells": [
  {
   "cell_type": "code",
   "execution_count": 6,
   "metadata": {},
   "outputs": [
    {
     "name": "stdout",
     "output_type": "stream",
     "text": [
      "Enter first value.5\n",
      "Enter second value7\n",
      "Enter operator*\n",
      "35 answer\n"
     ]
    }
   ],
   "source": [
    "val1 = int(input(\"Enter first value.\"))\n",
    "val2 = int(input(\"Enter second value\"))\n",
    "operator = input(\"Enter operator\")\n",
    "\n",
    "if operator == \"+\":\n",
    "    val = val1 + val2\n",
    "    print(val,\"answer\")\n",
    "elif operator == \"-\":\n",
    "    val = val1 - val2\n",
    "    print(val,\"answer\")\n",
    "elif operator == \"*\":\n",
    "    val = val1 * val2\n",
    "    print(val,\"answer\")\n",
    "elif operator == \"/\":\n",
    "    val = val1 / val2\n",
    "    print(val,\"answer\")\n",
    "else :\n",
    "    print(ent)"
   ]
  },
  {
   "cell_type": "code",
   "execution_count": 7,
   "metadata": {},
   "outputs": [
    {
     "name": "stdout",
     "output_type": "stream",
     "text": [
      "YES! There is numeric value  600\n"
     ]
    }
   ],
   "source": [
    "List = [\"APPLE\",\"MANGO\",\"600\"]\n",
    "numeric_value = \"600\"\n",
    "for value in List:\n",
    "    if value == numeric_value:\n",
    "        print(\"YES! There is numeric value \" + \" \" + List[2]) "
   ]
  },
  {
   "cell_type": "code",
   "execution_count": 5,
   "metadata": {},
   "outputs": [
    {
     "name": "stdout",
     "output_type": "stream",
     "text": [
      "{'Name': 'GHULAM MUHAMMAD', 'F_Name': 'ABDUL GHAFFAR', 'Address': 'Lives in KARACHI,a large city of  PAKISTAN'}\n"
     ]
    }
   ],
   "source": [
    "name = {\n",
    "    \"Name\":\"GHULAM MUHAMMAD\",\n",
    "    \"F_Name\":\"ABDUL GHAFFAR\",\n",
    "    \"Address\":\"Lives in KARACHI\"\n",
    "}\n",
    "name[\"Address\"] = 'Lives in KARACHI,a large city of  PAKISTAN'\n",
    "print(name)"
   ]
  },
  {
   "cell_type": "code",
   "execution_count": 4,
   "metadata": {},
   "outputs": [
    {
     "name": "stdout",
     "output_type": "stream",
     "text": [
      "{'a': 5, 'b': 10, 'c': 15}\n"
     ]
    }
   ],
   "source": [
    "name = {\n",
    "    \"a\" : 5,\n",
    "    \"b\" : 10,\n",
    "    \"c\" : 15\n",
    "}\n",
    "print(name)"
   ]
  },
  {
   "cell_type": "code",
   "execution_count": 3,
   "metadata": {},
   "outputs": [
    {
     "name": "stdout",
     "output_type": "stream",
     "text": [
      "YES! There is duplicate value that is, GHULAM MUHAMMAD\n"
     ]
    }
   ],
   "source": [
    "NAME = [\"GHULAM MUHAMMAD\",\"ABDUL GHAFFAR\",\"GHULAM MUHAMAD\"]\n",
    "Duplicate_value = \"GHULAM MUHAMMAD\"\n",
    "for value in NAME:\n",
    "    if value == Duplicate_value:\n",
    "        print(\"YES! There is duplicate value that is, GHULAM MUHAMMAD\")"
   ]
  },
  {
   "cell_type": "code",
   "execution_count": 2,
   "metadata": {},
   "outputs": [
    {
     "name": "stdout",
     "output_type": "stream",
     "text": [
      "Enter the value that you want to check that it's already exist or not.ALMOND\n",
      "No This value don't exists.it's a new value\n"
     ]
    }
   ],
   "source": [
    "values = {\"APPLE\",\"MANGO\",\"BANANA\",\"PINE APPLE\"}\n",
    "new = input(\"Enter the value that you want to check that it's already exist or not.\")\n",
    "for repeated_value in values :\n",
    "    if repeated_value == new :\n",
    "        print(\"This value already exists in dictionary\")\n",
    "        break\n",
    "    else:\n",
    "        print(\"No This value don't exists.it's a new value\")\n",
    "        break"
   ]
  },
  {
   "cell_type": "code",
   "execution_count": null,
   "metadata": {},
   "outputs": [],
   "source": []
  }
 ],
 "metadata": {
  "kernelspec": {
   "display_name": "Python 3",
   "language": "python",
   "name": "python3"
  },
  "language_info": {
   "codemirror_mode": {
    "name": "ipython",
    "version": 3
   },
   "file_extension": ".py",
   "mimetype": "text/x-python",
   "name": "python",
   "nbconvert_exporter": "python",
   "pygments_lexer": "ipython3",
   "version": "3.7.4"
  }
 },
 "nbformat": 4,
 "nbformat_minor": 2
}
