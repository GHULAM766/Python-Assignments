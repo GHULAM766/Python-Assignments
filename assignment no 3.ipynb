{
 "cells": [
  {
   "cell_type": "code",
   "execution_count": 1,
   "metadata": {},
   "outputs": [
    {
     "name": "stdout",
     "output_type": "stream",
     "text": [
      "Enter first value.5\n",
      "Enter second value6\n",
      "Enter operator*\n",
      "30 answer\n"
     ]
    }
   ],
   "source": [
    "val1 = int(input(\"Enter first value.\"))\n",
    "val2 = int(input(\"Enter second value\"))\n",
    "operator = input(\"Enter operator\")\n",
    "\n",
    "if operator == \"+\":\n",
    "    val = val1 + val2\n",
    "    print(val,\"answer\")\n",
    "elif operator == \"-\":\n",
    "    val = val1 - val2\n",
    "    print(val,\"answer\")\n",
    "elif operator == \"*\":\n",
    "    val = val1 * val2\n",
    "    print(val,\"answer\")\n",
    "elif operator == \"/\":\n",
    "    val = val1 / val2\n",
    "    print(val,\"answer\")\n",
    "else :\n",
    "    print(\"Please!Enter correct value\")"
   ]
  },
  {
   "cell_type": "code",
   "execution_count": null,
   "metadata": {},
   "outputs": [],
   "source": []
  }
 ],
 "metadata": {
  "kernelspec": {
   "display_name": "Python 3",
   "language": "python",
   "name": "python3"
  },
  "language_info": {
   "codemirror_mode": {
    "name": "ipython",
    "version": 3
   },
   "file_extension": ".py",
   "mimetype": "text/x-python",
   "name": "python",
   "nbconvert_exporter": "python",
   "pygments_lexer": "ipython3",
   "version": "3.7.4"
  }
 },
 "nbformat": 4,
 "nbformat_minor": 2
}
