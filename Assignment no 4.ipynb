{
 "cells": [
  {
   "cell_type": "code",
   "execution_count": 1,
   "metadata": {},
   "outputs": [
    {
     "name": "stdout",
     "output_type": "stream",
     "text": [
      "{'First_name': 'Ghulam', 'Last_name': 'Muhammad', 'Age': '19 years', 'city': 'Karachi'}\n",
      "{'First_name': 'Ghulam', 'Last_name': 'Muhammad', 'Age': '19 years', 'city': 'Karachi', 'qualification': 'bachelor in science'}\n",
      "{'First_name': 'Ghulam', 'Last_name': 'Muhammad', 'Age': '19 years', 'city': 'Karachi'}\n"
     ]
    }
   ],
   "source": [
    "person =  {'First_name':'Ghulam', \n",
    "       'Last_name':'Muhammad', \n",
    "       'Age':'19 years', \n",
    "       'city':'Karachi',}\n",
    "print(person)\n",
    "person['qualification']='bachelor in science'\n",
    "print(person)\n",
    "del person['qualification']\n",
    "print (person)"
   ]
  },
  {
   "cell_type": "code",
   "execution_count": null,
   "metadata": {},
   "outputs": [],
   "source": [
    "cities = {\n",
    "          'Karachi': {'population':25000000,\n",
    "                     'country':'PAKISTAN',\n",
    "                     'imp':'It is the largest city of PAKISTAN',\n",
    "                     },\n",
    "            'Lahore': {'population':20000000,\n",
    "                      'country':'PAKISTAN',\n",
    "                      'imp':'is the second largest city of PAKISTAN',\n",
    "                      },\n",
    "            'Islamabad': {'population':10000000,\n",
    "                         'country':'PAKISTAN',\n",
    "                         'imp':'is the capital of PAKISTAN',\n",
    "                         }, \n",
    "    }\n",
    "\n",
    "for city, city_info in cities.items():\n",
    "    population = city_info['population']\n",
    "    country = city_info['country'].title()\n",
    "    imp = city_info['imp'].title()\n",
    "    \n",
    "    \n",
    "    print( \" Its population is about \" +str(population) + \".\")\n",
    "    print(\"\\n\" + city.title() + \" is in \" + country + \".\")\n",
    "    print(\"the\" + \"imp\" )"
   ]
  },
  {
   "cell_type": "code",
   "execution_count": null,
   "metadata": {},
   "outputs": [
    {
     "name": "stdout",
     "output_type": "stream",
     "text": [
      "How old are you?\n",
      "Enter 'quit' when you are finished. 3\n",
      "  Your ticket is $10.\n",
      "How old are you?\n",
      "Enter 'quit' when you are finished. 45\n",
      "  Your ticket is $15.\n"
     ]
    }
   ],
   "source": [
    "prompt = \"How old are you?\"\n",
    "prompt += \"\\nEnter 'quit' when you are finished. \"\n",
    "\n",
    "while True:\n",
    "    age = input(prompt)\n",
    "    if age == 'quit':\n",
    "        break\n",
    "    age = int(age)\n",
    "\n",
    "    if age < 3:\n",
    "        print(\"  You get in free!\")\n",
    "    elif age < 13:\n",
    "        print(\"  Your ticket is $10.\")\n",
    "    else:\n",
    "        print(\"  Your ticket is $15.\")"
   ]
  },
  {
   "cell_type": "code",
   "execution_count": null,
   "metadata": {},
   "outputs": [],
   "source": [
    "def favorite_book(title):\n",
    "    \"\"\"Display a message about someone's favorite book.\"\"\"\n",
    "    print(title + \" is one of my favorite books.\")\n",
    "\n",
    "favorite_book('WHO IS WHO AND WHAT IS WHAT')"
   ]
  },
  {
   "cell_type": "code",
   "execution_count": null,
   "metadata": {},
   "outputs": [],
   "source": []
  }
 ],
 "metadata": {
  "kernelspec": {
   "display_name": "Python 3",
   "language": "python",
   "name": "python3"
  },
  "language_info": {
   "codemirror_mode": {
    "name": "ipython",
    "version": 3
   },
   "file_extension": ".py",
   "mimetype": "text/x-python",
   "name": "python",
   "nbconvert_exporter": "python",
   "pygments_lexer": "ipython3",
   "version": "3.7.4"
  }
 },
 "nbformat": 4,
 "nbformat_minor": 2
}
