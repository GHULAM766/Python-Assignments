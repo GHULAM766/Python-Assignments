{
 "cells": [
  {
   "cell_type": "code",
   "execution_count": 1,
   "metadata": {},
   "outputs": [
    {
     "name": "stdout",
     "output_type": "stream",
     "text": [
      "120\n"
     ]
    }
   ],
   "source": [
    "num1=1\n",
    "num2=2\n",
    "num3=3\n",
    "num4=4\n",
    "num5=5\n",
    "\n",
    "def factorialnmbrof5():\n",
    "    result=num1*num2*num3*num4*num5\n",
    "    print(result)\n",
    "    \n",
    "factorialnmbrof5()\n",
    "    "
   ]
  },
  {
   "cell_type": "code",
   "execution_count": 42,
   "metadata": {},
   "outputs": [
    {
     "name": "stdout",
     "output_type": "stream",
     "text": [
      "There are 26 uppercase letters in english language. There are also 26 lowercase letters in english language\n"
     ]
    }
   ],
   "source": [
    "def function(num1,num2):\n",
    "    num1=\"There are 26 uppercase letters in english language.\"\n",
    "    num2=\"There are also 26 lowercase letters in english language\"\n",
    "    print(num1+\" \"+num2)\n",
    "    \n",
    "function(num1,num2)"
   ]
  },
  {
   "cell_type": "code",
   "execution_count": 16,
   "metadata": {},
   "outputs": [
    {
     "name": "stdout",
     "output_type": "stream",
     "text": [
      "2468\n"
     ]
    }
   ],
   "source": [
    "naturalnmbrs=123456789\n",
    "oddnmbrs=13579\n",
    "evennmbrs=2468\n",
    "\n",
    "def addnum(evennmbrs):\n",
    "    print(evennmbrs)\n",
    "    \n",
    "addnum(evennmbrs)\n"
   ]
  },
  {
   "cell_type": "code",
   "execution_count": 24,
   "metadata": {},
   "outputs": [
    {
     "name": "stdout",
     "output_type": "stream",
     "text": [
      "Madam is a plindrome. Hello is not a plindrome\n"
     ]
    }
   ],
   "source": [
    "def addnum(num1,num2):\n",
    "    print(num1 + \" \" + num2)\n",
    "\n",
    "num1=\"Madam is a plindrome.\"\n",
    "num2=\"Hello is not a plindrome\"\n",
    "addnum(num1,num2)"
   ]
  },
  {
   "cell_type": "code",
   "execution_count": 31,
   "metadata": {},
   "outputs": [
    {
     "name": "stdout",
     "output_type": "stream",
     "text": [
      "9 is not a prime number. 2 is a prime number\n"
     ]
    }
   ],
   "source": [
    "def func(Nine,Two):\n",
    "    print(Nine + \" \" + Two)\n",
    "    \n",
    "Nine=\"9 is not a prime number.\"\n",
    "Two=\"2 is a prime number\"\n",
    "func(Nine,Two)"
   ]
  },
  {
   "cell_type": "code",
   "execution_count": 41,
   "metadata": {},
   "outputs": [
    {
     "name": "stdout",
     "output_type": "stream",
     "text": [
      "User brought from market. Mango\n",
      "Banana\n",
      "Apple\n",
      "Grapes\n",
      "Pineapple\n"
     ]
    }
   ],
   "source": [
    "def addnum(items,*params):\n",
    "    print(\"User brought from market.\"+ \" \" + items)\n",
    "    for param in params :\n",
    "        print(param)\n",
    "        \n",
    "addnum(\"Mango\",\"Banana\",\"Apple\",\"Grapes\",\"Pineapple\")"
   ]
  },
  {
   "cell_type": "code",
   "execution_count": null,
   "metadata": {},
   "outputs": [],
   "source": []
  }
 ],
 "metadata": {
  "kernelspec": {
   "display_name": "Python 3",
   "language": "python",
   "name": "python3"
  },
  "language_info": {
   "codemirror_mode": {
    "name": "ipython",
    "version": 3
   },
   "file_extension": ".py",
   "mimetype": "text/x-python",
   "name": "python",
   "nbconvert_exporter": "python",
   "pygments_lexer": "ipython3",
   "version": "3.7.4"
  }
 },
 "nbformat": 4,
 "nbformat_minor": 2
}
