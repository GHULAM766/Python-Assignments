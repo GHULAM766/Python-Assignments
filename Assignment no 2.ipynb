{
 "cells": [
  {
   "cell_type": "code",
   "execution_count": 26,
   "metadata": {},
   "outputs": [
    {
     "name": "stdout",
     "output_type": "stream",
     "text": [
      "Please! input your total marks of Five subjects.900\n",
      "you have written incorrect marks.\n"
     ]
    }
   ],
   "source": [
    "marks = int(input(\"Please! input your total marks of Five subjects.\"))\n",
    "if marks >= 500 and marks <= 450:\n",
    "    print(\"Congratulations! you have got A+\")\n",
    "elif marks >= 450 and marks <= 300:\n",
    "    print(\"Good! you have got A\")\n",
    "elif marks >= 300 and marks <= 250:\n",
    "    print(\"you have got B\")\n",
    "elif marks >= 250 and marks <= 200:\n",
    "    print(\"you have got C\")\n",
    "else :\n",
    "    print(\"you have written incorrect marks.\")"
   ]
  },
  {
   "cell_type": "code",
   "execution_count": 11,
   "metadata": {},
   "outputs": [
    {
     "name": "stdout",
     "output_type": "stream",
     "text": [
      "please! write any number between 1 to 20.6\n",
      "The number is even\n"
     ]
    }
   ],
   "source": [
    "num = int(input(\"please! write any number between 1 to 20.\"))\n",
    "if num == 1 or num == 3 or num == 5 or num == 7 or num == 9 or num == 11 or num == 13 or num == 15 or num == 17 or num == 19:\n",
    "    print(\"The number is odd.\")\n",
    "elif  num == 2 or num == 4 or num == 6 or num == 8 or num == 10 or num == 12 or num == 14 or num == 16 or num == 18 or num == 20:\n",
    "    print(\"The number is even\")\n",
    "else : \n",
    "    print(\"You have given wrong number\")"
   ]
  },
  {
   "cell_type": "code",
   "execution_count": 1,
   "metadata": {},
   "outputs": [
    {
     "name": "stdout",
     "output_type": "stream",
     "text": [
      "['5', '10', '15', '35', '20', '25']\n"
     ]
    }
   ],
   "source": [
    "arr = [\"5\",\"10\",\"15\",\"35\",\"20\",\"25\"]\n",
    "print(arr)"
   ]
  },
  {
   "cell_type": "code",
   "execution_count": 15,
   "metadata": {},
   "outputs": [
    {
     "name": "stdout",
     "output_type": "stream",
     "text": [
      "['5', '10', '15', '35', '20', '25']\n"
     ]
    }
   ],
   "source": [
    "a = 5;\n",
    "b = 10;\n",
    "c = 15;\n",
    "d = 35;\n",
    "e = 20;\n",
    "f = 25;\n",
    "sum = arr\n",
    "arr = [\"5\",\"10\",\"15\",\"35\",\"20\",\"25\"]\n",
    "print(arr)"
   ]
  },
  {
   "cell_type": "raw",
   "metadata": {},
   "source": []
  },
  {
   "cell_type": "raw",
   "metadata": {},
   "source": []
  },
  {
   "cell_type": "code",
   "execution_count": 25,
   "metadata": {},
   "outputs": [
    {
     "name": "stdout",
     "output_type": "stream",
     "text": [
      "[]\n"
     ]
    }
   ],
   "source": []
  },
  {
   "cell_type": "code",
   "execution_count": null,
   "metadata": {},
   "outputs": [],
   "source": []
  },
  {
   "cell_type": "code",
   "execution_count": null,
   "metadata": {},
   "outputs": [],
   "source": []
  },
  {
   "cell_type": "code",
   "execution_count": null,
   "metadata": {},
   "outputs": [],
   "source": []
  }
 ],
 "metadata": {
  "kernelspec": {
   "display_name": "Python 3",
   "language": "python",
   "name": "python3"
  },
  "language_info": {
   "codemirror_mode": {
    "name": "ipython",
    "version": 3
   },
   "file_extension": ".py",
   "mimetype": "text/x-python",
   "name": "python",
   "nbconvert_exporter": "python",
   "pygments_lexer": "ipython3",
   "version": "3.7.4"
  }
 },
 "nbformat": 4,
 "nbformat_minor": 2
}
